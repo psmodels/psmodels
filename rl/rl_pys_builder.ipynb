{
 "cells": [
  {
   "cell_type": "code",
   "execution_count": 6,
   "metadata": {},
   "outputs": [],
   "source": [
    "import numpy as np\n",
    "from pysimu.ode2numba import system"
   ]
  },
  {
   "cell_type": "code",
   "execution_count": 7,
   "metadata": {},
   "outputs": [
    {
     "name": "stdout",
     "output_type": "stream",
     "text": [
      "i_s_i \n",
      "i_s_r \n",
      " -i_s_d + sqrt(2)*i_s_i,  -i_s_q - sqrt(2)*i_s_r, \n",
      "Matrix([[i_s_i], [i_s_r]])\n",
      "N_y 2\n",
      " -i_s_d + sym.sqrt(2)*i_s_i,  -i_s_q - sym.sqrt(2)*i_s_r, \n"
     ]
    }
   ],
   "source": [
    "R = 1.0\n",
    "L = 1e-3\n",
    "\n",
    "sys = { 't_end':0.1,'Dt':0.001,'solver':'forward-euler', 'decimation':10, 'name':'rl',\n",
    "       'models':[{'params':\n",
    "                       {\n",
    "                        'R': R,\n",
    "                        'L'  : L,\n",
    "                       },\n",
    "                  'f':[\n",
    "                        'di_s_d = 1/L*(v_t_d - R*i_s_d + L*omega*i_s_q - v_s_d)',\n",
    "                        'di_s_q = 1/L*(v_t_q - R*i_s_q - L*omega*i_s_d - v_s_q)'\n",
    "                       ],\n",
    "                  'g':[\n",
    "                      'i_s_i @ -i_s_d + sqrt(2)*i_s_i',\n",
    "                      'i_s_r @ -i_s_q - sqrt(2)*i_s_r'\n",
    "                          ],\n",
    "                  #'u':{'v_t_d':85.59,'v_t_q':-319.4,'v_s_d':0.0,'v_s_q':-326.6,'omega':2*np.pi*50.0},  \n",
    "                  'u':{'v_t_d':0,'v_t_q':0,'v_s_d':0.0,'v_s_q':0,'omega':2*np.pi*50.0}, \n",
    "                  'y':    ['i_s_r','i_s_i'],\n",
    "                  'y_ini':['i_s_r','i_s_i'],\n",
    "                  'h':[\n",
    "                       'i_s_r','i_s_i'\n",
    "                       ]}\n",
    "                  ],\n",
    "        'perturbations':[{'type':'step','time':1.0,'var':'RoCoF','final':1.0} ]\n",
    "        }\n",
    "    \n",
    "x,f = system(sys) "
   ]
  }
 ],
 "metadata": {
  "kernelspec": {
   "display_name": "Python 3",
   "language": "python",
   "name": "python3"
  },
  "language_info": {
   "codemirror_mode": {
    "name": "ipython",
    "version": 3
   },
   "file_extension": ".py",
   "mimetype": "text/x-python",
   "name": "python",
   "nbconvert_exporter": "python",
   "pygments_lexer": "ipython3",
   "version": "3.7.1"
  }
 },
 "nbformat": 4,
 "nbformat_minor": 2
}
